{
 "cells": [
  {
   "cell_type": "code",
   "execution_count": 1,
   "id": "86525612-fd37-4dfe-9f1f-db428e0f5405",
   "metadata": {},
   "outputs": [],
   "source": [
    "#assignment - 29.01.2023"
   ]
  },
  {
   "cell_type": "code",
   "execution_count": 11,
   "id": "98335aff-8d27-48a3-a4ee-532b66852272",
   "metadata": {},
   "outputs": [
    {
     "data": {
      "text/plain": [
       "'Python is developed by Guido van Rossum '"
      ]
     },
     "execution_count": 11,
     "metadata": {},
     "output_type": "execute_result"
    }
   ],
   "source": [
    "\"Answer-1\"     \n",
    "\"Python is developed by Guido van Rossum \""
   ]
  },
  {
   "cell_type": "code",
   "execution_count": 12,
   "id": "fa2ea5cc-0ac9-463c-a7a6-77b04ca6c34a",
   "metadata": {},
   "outputs": [
    {
     "data": {
      "text/plain": [
       "'Python support Object-oriented programming and structured programming '"
      ]
     },
     "execution_count": 12,
     "metadata": {},
     "output_type": "execute_result"
    }
   ],
   "source": [
    "\"Answer-2\"     \n",
    "\"Python support Object-oriented programming and structured programming \""
   ]
  },
  {
   "cell_type": "code",
   "execution_count": 13,
   "id": "77a9c997-1670-4a3e-9317-0ec9d1acda5a",
   "metadata": {},
   "outputs": [
    {
     "data": {
      "text/plain": [
       "'Python is a case sensitive language '"
      ]
     },
     "execution_count": 13,
     "metadata": {},
     "output_type": "execute_result"
    }
   ],
   "source": [
    "\"Answer-3\"     \n",
    "\"Python is a case sensitive language \""
   ]
  },
  {
   "cell_type": "code",
   "execution_count": 14,
   "id": "e7ad6388-5902-4809-9281-1db6a555cb33",
   "metadata": {},
   "outputs": [
    {
     "data": {
      "text/plain": [
       "' .py '"
      ]
     },
     "execution_count": 14,
     "metadata": {},
     "output_type": "execute_result"
    }
   ],
   "source": [
    "\"Answer-4\"     \n",
    "\" .py \""
   ]
  },
  {
   "cell_type": "code",
   "execution_count": 15,
   "id": "1d46b0c1-e71e-4faf-850e-1025679da2d6",
   "metadata": {},
   "outputs": [
    {
     "data": {
      "text/plain": [
       "' Python is an interpreted language '"
      ]
     },
     "execution_count": 15,
     "metadata": {},
     "output_type": "execute_result"
    }
   ],
   "source": [
    "\"Answer-5\"     \n",
    "\" Python is an interpreted language \""
   ]
  },
  {
   "cell_type": "code",
   "execution_count": 16,
   "id": "9a4ad1fa-d0c2-4d68-92ff-2a22e81fec0f",
   "metadata": {},
   "outputs": [
    {
     "data": {
      "text/plain": [
       "'  a module, a function body, and a class definition '"
      ]
     },
     "execution_count": 16,
     "metadata": {},
     "output_type": "execute_result"
    }
   ],
   "source": [
    "\"Answer-6\"     \n",
    "\"  a module, a function body, and a class definition \""
   ]
  },
  {
   "cell_type": "code",
   "execution_count": 35,
   "id": "a20a158a-0145-4f28-a2e2-a2cde6563c68",
   "metadata": {},
   "outputs": [
    {
     "data": {
      "text/plain": [
       "'#'"
      ]
     },
     "execution_count": 35,
     "metadata": {},
     "output_type": "execute_result"
    }
   ],
   "source": [
    "\"Answer-7\"     \n",
    "\"#\""
   ]
  },
  {
   "cell_type": "code",
   "execution_count": 46,
   "id": "930d03a2-86c9-4d88-beee-713f20d664b2",
   "metadata": {},
   "outputs": [
    {
     "name": "stdout",
     "output_type": "stream",
     "text": [
      "Python version\n",
      "3.10.8 | packaged by conda-forge | (main, Nov 22 2022, 08:26:04) [GCC 10.4.0]\n",
      "Version info.\n"
     ]
    }
   ],
   "source": [
    "\"Answer-8\"\n",
    "\n",
    "\n",
    "import sys\n",
    "print(\"Python version\")\n",
    "print (sys.version)\n",
    "print(\"Version info.\")\n"
   ]
  },
  {
   "cell_type": "code",
   "execution_count": 47,
   "id": "a7ddffb3-57d7-48ed-81aa-84046192d007",
   "metadata": {},
   "outputs": [
    {
     "data": {
      "text/plain": [
       "'lambda'"
      ]
     },
     "execution_count": 47,
     "metadata": {},
     "output_type": "execute_result"
    }
   ],
   "source": [
    "\"Answer-9\"\n",
    "\n",
    "\"lambda\""
   ]
  },
  {
   "cell_type": "code",
   "execution_count": 49,
   "id": "a8a87eab-36e7-4503-83f1-2e2ff1a2c683",
   "metadata": {},
   "outputs": [
    {
     "data": {
      "text/plain": [
       "'pip - preferred installer program '"
      ]
     },
     "execution_count": 49,
     "metadata": {},
     "output_type": "execute_result"
    }
   ],
   "source": [
    "\"Answer-10\"\n",
    "\n",
    "\"pip - preferred installer program \""
   ]
  },
  {
   "cell_type": "code",
   "execution_count": 50,
   "id": "fdf32aaa-9c9a-43ba-8297-9f2c79162deb",
   "metadata": {},
   "outputs": [
    {
     "data": {
      "text/plain": [
       "' flot , list , len . int , str , boolen , sets , dict , tuple '"
      ]
     },
     "execution_count": 50,
     "metadata": {},
     "output_type": "execute_result"
    }
   ],
   "source": [
    "\"Answer-11\"\n",
    "\n",
    "\" flot , list , len . int , str , boolen , sets , dict , tuple \""
   ]
  },
  {
   "cell_type": "code",
   "execution_count": 51,
   "id": "b7ed5050-b744-44bd-829c-9b127fac22ef",
   "metadata": {},
   "outputs": [
    {
     "data": {
      "text/plain": [
       "' 79 characters '"
      ]
     },
     "execution_count": 51,
     "metadata": {},
     "output_type": "execute_result"
    }
   ],
   "source": [
    "\"Answer-12\"\n",
    "\n",
    "\" 79 characters \""
   ]
  },
  {
   "cell_type": "code",
   "execution_count": 56,
   "id": "c4ce3d75-768f-4f6d-a67b-f280a651583d",
   "metadata": {},
   "outputs": [
    {
     "data": {
      "text/plain": [
       "'Python is a high-level, interpreted, and general-purpose dynamic programming language that focuses on code readability. It generally has small programs when compared to Java and C. It was founded in 1991 by developer Guido Van Rossum. Python ranks among the most popular and fastest-growing languages in the world. Python is a powerful, flexible, and easy-to-use language. In addition, the python community is very active. It is used in many organizations as it supports multiple programming paradigms. It also performs automatic memory management'"
      ]
     },
     "execution_count": 56,
     "metadata": {},
     "output_type": "execute_result"
    }
   ],
   "source": [
    "\"Answer-13\"\n",
    "\n",
    "\"Python is a high-level, interpreted, and general-purpose dynamic programming language that focuses on code readability. It generally has small programs when compared to Java and C. It was founded in 1991 by developer Guido Van Rossum. Python ranks among the most popular and fastest-growing languages in the world. Python is a powerful, flexible, and easy-to-use language. In addition, the python community is very active. It is used in many organizations as it supports multiple programming paradigms. It also performs automatic memory management\""
   ]
  },
  {
   "cell_type": "code",
   "execution_count": 57,
   "id": "d0417613-7afc-495e-b0a2-11df4249e60e",
   "metadata": {},
   "outputs": [
    {
     "data": {
      "text/plain": [
       "'Memory management in Python involves a private heap containing all Python objects and data structures. The management of this private heap is ensured internally by the Python memory manager.'"
      ]
     },
     "execution_count": 57,
     "metadata": {},
     "output_type": "execute_result"
    }
   ],
   "source": [
    "\"Answer-14\"\n",
    "\n",
    "\"Memory management in Python involves a private heap containing all Python objects and data structures. The management of this private heap is ensured internally by the Python memory manager.\""
   ]
  },
  {
   "cell_type": "code",
   "execution_count": 61,
   "id": "f1a802a9-4d59-4edc-aa6f-c010d63e7b7b",
   "metadata": {},
   "outputs": [],
   "source": [
    "#Answer-15\"\n",
    "\n",
    "\n",
    "#The complete path of python.exe can be added by:\n",
    "\n",
    "#Right-clicking This PC and going to Properties.\n",
    "\n",
    "#Clicking on the Advanced system settings in the menu on the left.\n",
    "\n",
    "#Clicking on the Environment Variables button on the bottom right.\n",
    "\n",
    "#In the System variables section, selecting the Path variable and clicking on Edit. The next screen will show all the directories that are currently a part of the PATH variable.\n",
    "\n",
    "#Clicking on New and entering Python’s install directory."
   ]
  },
  {
   "cell_type": "code",
   "execution_count": 62,
   "id": "72fa3cd1-cf45-4729-b90b-0756fcc65748",
   "metadata": {},
   "outputs": [
    {
     "data": {
      "text/plain": [
       "'Indentation in Python is very important. Python uses indentation to indicate a block of code.'"
      ]
     },
     "execution_count": 62,
     "metadata": {},
     "output_type": "execute_result"
    }
   ],
   "source": [
    "\"Answer-16\"\n",
    "\n",
    "\"Indentation in Python is very important. Python uses indentation to indicate a block of code.\""
   ]
  }
 ],
 "metadata": {
  "kernelspec": {
   "display_name": "Python 3 (ipykernel)",
   "language": "python",
   "name": "python3"
  },
  "language_info": {
   "codemirror_mode": {
    "name": "ipython",
    "version": 3
   },
   "file_extension": ".py",
   "mimetype": "text/x-python",
   "name": "python",
   "nbconvert_exporter": "python",
   "pygments_lexer": "ipython3",
   "version": "3.10.8"
  }
 },
 "nbformat": 4,
 "nbformat_minor": 5
}
